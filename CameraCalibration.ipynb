{
 "cells": [
  {
   "cell_type": "code",
   "execution_count": null,
   "id": "05b251aa",
   "metadata": {},
   "outputs": [],
   "source": [
    "from ifm3dpy import O3RCamera, FrameGrabber, ImageBuffer\n",
    "import json\n",
    "import matplotlib.pyplot as plt\n",
    "import cv2\n",
    "import open3d as o3d\n",
    "import pandas as pd\n",
    "import numpy as np\n",
    "import tensorflow as tf\n",
    "import pickle\n",
    "from glob import glob\n",
    "from PIL import Image\n",
    "from time import time\n",
    "%matplotlib qt"
   ]
  },
  {
   "cell_type": "code",
   "execution_count": null,
   "id": "e851f2ba",
   "metadata": {},
   "outputs": [],
   "source": [
    "''' Utilities '''\n",
    "\n",
    "def timer(func):\n",
    "    # This function shows the execution time of \n",
    "    # the function object passed\n",
    "    def wrap_func(*args, **kwargs):\n",
    "        t1 = time()\n",
    "        result = func(*args, **kwargs)\n",
    "        t2 = time()\n",
    "        print(f'Function {func.__name__!r} executed in {1000*(t2-t1):.0f}ms')\n",
    "        return result\n",
    "    return wrap_func\n",
    "\n",
    "def visualize(**images):\n",
    "    n = len(images)\n",
    "    plt.figure(figsize=(16, 8))\n",
    "    for i, (name, image) in enumerate(images.items()):\n",
    "        plt.subplot(1, n, i + 1)\n",
    "        plt.xticks([])\n",
    "        plt.yticks([])\n",
    "        plt.title(' '.join(name.split('_')) + f' {image.shape} {image.shape[1] / image.shape[0]:.2f}'.title())\n",
    "        plt.imshow(image)\n",
    "    plt.show()\n",
    "    \n",
    "def load_pickle(filename = 'bag'):\n",
    "    with open(filename, \"rb\") as fp:\n",
    "            frames = pickle.load(fp)\n",
    "    return frames\n",
    "\n",
    "''' Calibration '''\n",
    "\n",
    "# @timer\n",
    "def collect_calibration_points(img):\n",
    "    objp = np.zeros((9*6,3), np.float32)\n",
    "    objp[:,:2] = np.mgrid[0:9,0:6].T.reshape(-1,2)\n",
    "    criteria = (cv2.TERM_CRITERIA_EPS + cv2.TERM_CRITERIA_MAX_ITER, 30, 0.001)\n",
    "    gray = cv2.cvtColor(img, cv2.COLOR_BGR2GRAY)\n",
    "    \n",
    "    ret, corners = cv2.findChessboardCorners(gray, (9, 6), None)\n",
    "    \n",
    "    if ret == True:\n",
    "        corners2 = cv2.cornerSubPix(gray,corners, (11,11), (-1,-1), criteria)\n",
    "        cv2.drawChessboardCorners(img, (9,6), corners2, ret)\n",
    "        plt.imshow(img)\n",
    "        \n",
    "        return (objp, corners)\n",
    "    return (None, None)\n",
    "\n",
    "# @timer\n",
    "def calibrate(objpoints, imgpoints, im_size):\n",
    "    ret, mtx, dist, rvecs, tvecs = cv2.calibrateCamera(objpoints, imgpoints, im_size, None, None)\n",
    "    newcameramtx, roi = cv2.getOptimalNewCameraMatrix(mtx, dist, im_size, 0, im_size)\n",
    "    \n",
    "    mean_error = 0\n",
    "    for i in range(len(objpoints)):\n",
    "        imgpoints2, _ = cv2.projectPoints(objpoints[i], rvecs[i], tvecs[i], mtx, dist)\n",
    "        error = cv2.norm(imgpoints[i], imgpoints2, cv2.NORM_L2)/len(imgpoints2)\n",
    "        mean_error += error\n",
    "    print( \"total error: {}\".format(mean_error/len(objpoints)) )\n",
    "    return (mtx, newcameramtx, roi, dist)\n",
    "\n",
    "def undistort(img, config):\n",
    "    mtx, newcameramtx, roi, dist = config\n",
    "    dst = cv2.undistort(img, mtx, dist, newcameramtx)\n",
    "    x, y, w, h = roi\n",
    "    dst = dst[y:y+h, x:x+w]\n",
    "    return dst"
   ]
  },
  {
   "cell_type": "code",
   "execution_count": 13,
   "id": "dc9b1870",
   "metadata": {},
   "outputs": [],
   "source": [
    "imgs = [cv2.imread(im) for im in glob(r'C:\\Users\\umilinn\\Pictures\\Camera Calibration\\*.jpg')]"
   ]
  },
  {
   "cell_type": "code",
   "execution_count": 14,
   "id": "866aaad0",
   "metadata": {},
   "outputs": [],
   "source": [
    "objectPoints = []\n",
    "imagePoints = []\n",
    "for img in imgs:\n",
    "    objp, corners = collect_calibration_points(img)\n",
    "    if objp is not None:\n",
    "        objectPoints.append(objp)\n",
    "        imagePoints.append(corners)"
   ]
  },
  {
   "cell_type": "code",
   "execution_count": 15,
   "id": "4103f121",
   "metadata": {},
   "outputs": [
    {
     "name": "stdout",
     "output_type": "stream",
     "text": [
      "total error: 0.037024846355966874\n"
     ]
    }
   ],
   "source": [
    "config = calibrate(objectPoints, imagePoints, img.shape[::-1][1:])"
   ]
  },
  {
   "cell_type": "code",
   "execution_count": 60,
   "id": "636e0f22",
   "metadata": {},
   "outputs": [
    {
     "name": "stdout",
     "output_type": "stream",
     "text": [
      "Wall time: 110 ms\n"
     ]
    }
   ],
   "source": [
    "%%time\n",
    "visualize(image = img, rectified = undistort(img, config))"
   ]
  },
  {
   "cell_type": "code",
   "execution_count": 17,
   "id": "c8c030f1",
   "metadata": {},
   "outputs": [
    {
     "data": {
      "text/plain": [
       "(array([[607.43997952,   0.        , 645.96889836],\n",
       "        [  0.        , 605.58954233, 391.50563407],\n",
       "        [  0.        ,   0.        ,   1.        ]]),\n",
       " array([[606.9654541 ,   0.        , 645.46430289],\n",
       "        [  0.        , 604.83251953, 391.0162154 ],\n",
       "        [  0.        ,   0.        ,   1.        ]]),\n",
       " (0, 0, 1279, 799),\n",
       " array([[-0.35962477,  0.16171162, -0.00081826, -0.00444003, -0.03848117]]))"
      ]
     },
     "execution_count": 17,
     "metadata": {},
     "output_type": "execute_result"
    }
   ],
   "source": [
    "config"
   ]
  },
  {
   "cell_type": "code",
   "execution_count": null,
   "id": "31db5cf5",
   "metadata": {},
   "outputs": [],
   "source": [
    "frames = load_pickle()"
   ]
  },
  {
   "cell_type": "code",
   "execution_count": null,
   "id": "c12e227b",
   "metadata": {},
   "outputs": [],
   "source": [
    "dep = frames[0][2]"
   ]
  },
  {
   "cell_type": "code",
   "execution_count": 33,
   "id": "d21b41bd",
   "metadata": {},
   "outputs": [
    {
     "ename": "NameError",
     "evalue": "name 'im_size' is not defined",
     "output_type": "error",
     "traceback": [
      "\u001b[1;31m---------------------------------------------------------------------------\u001b[0m",
      "\u001b[1;31mNameError\u001b[0m                                 Traceback (most recent call last)",
      "\u001b[1;32m<ipython-input-33-61869f50470e>\u001b[0m in \u001b[0;36m<module>\u001b[1;34m\u001b[0m\n\u001b[1;32m----> 1\u001b[1;33m \u001b[0mim_size\u001b[0m\u001b[1;33m\u001b[0m\u001b[1;33m\u001b[0m\u001b[0m\n\u001b[0m",
      "\u001b[1;31mNameError\u001b[0m: name 'im_size' is not defined"
     ]
    }
   ],
   "source": [
    "im_size"
   ]
  },
  {
   "cell_type": "code",
   "execution_count": 52,
   "id": "cfbbc47b",
   "metadata": {},
   "outputs": [],
   "source": [
    "dep_mtx = np.array([[128.5714264, 0, 110.11029816],\n",
    "                    [0, 128.5714264, 85.265068],\n",
    "                    [0, 0, 1]])\n",
    "dep_dist = np.array([.50292897, -.0403364, 0.0, -.63675499])\n",
    "dep_newcameramtx, dep_roi = cv2.getOptimalNewCameraMatrix(dep_mtx, dep_dist, dep.shape[::-1], 0, dep.shape[::-1])\n",
    "dep_config = (dep_mtx, dep_newcameramtx, dep_roi, dep_dist)"
   ]
  },
  {
   "cell_type": "code",
   "execution_count": 55,
   "id": "dbc27e5b",
   "metadata": {},
   "outputs": [
    {
     "data": {
      "text/plain": [
       "array([ 0.50292897, -0.0403364 ,  0.        , -0.63675499])"
      ]
     },
     "execution_count": 55,
     "metadata": {},
     "output_type": "execute_result"
    }
   ],
   "source": [
    "dep_dist"
   ]
  },
  {
   "cell_type": "code",
   "execution_count": 62,
   "id": "98a7004b",
   "metadata": {},
   "outputs": [
    {
     "data": {
      "text/plain": [
       "<matplotlib.image.AxesImage at 0x23018548580>"
      ]
     },
     "execution_count": 62,
     "metadata": {},
     "output_type": "execute_result"
    }
   ],
   "source": [
    "plt.imshow(undistort(dep, dep_config))"
   ]
  },
  {
   "cell_type": "code",
   "execution_count": 47,
   "id": "0d084cba",
   "metadata": {},
   "outputs": [
    {
     "data": {
      "text/plain": [
       "(array([[607.43997952,   0.        , 645.96889836],\n",
       "        [  0.        , 605.58954233, 391.50563407],\n",
       "        [  0.        ,   0.        ,   1.        ]]),\n",
       " array([[606.9654541 ,   0.        , 645.46430289],\n",
       "        [  0.        , 604.83251953, 391.0162154 ],\n",
       "        [  0.        ,   0.        ,   1.        ]]),\n",
       " (0, 0, 1279, 799),\n",
       " array([[-0.35962477,  0.16171162, -0.00081826, -0.00444003, -0.03848117]]))"
      ]
     },
     "execution_count": 47,
     "metadata": {},
     "output_type": "execute_result"
    }
   ],
   "source": [
    "config"
   ]
  },
  {
   "cell_type": "code",
   "execution_count": 48,
   "id": "31df2724",
   "metadata": {},
   "outputs": [
    {
     "data": {
      "text/plain": [
       "(array([[128.5714264 ,   0.        , 110.11029816],\n",
       "        [  0.        , 128.5714264 ,  85.265068  ],\n",
       "        [  0.        ,   0.        ,   1.        ]]),\n",
       " array([[222.53392029,   0.        ,  25.87748873],\n",
       "        [  0.        , 658.22351074,  83.93408901],\n",
       "        [  0.        ,   0.        ,   1.        ]]),\n",
       " (0, 0, 223, 171),\n",
       " array([ 0.50292897, -0.0403364 ,  0.        , -0.63675499]))"
      ]
     },
     "execution_count": 48,
     "metadata": {},
     "output_type": "execute_result"
    }
   ],
   "source": [
    "dep_config"
   ]
  },
  {
   "cell_type": "code",
   "execution_count": null,
   "id": "da32b643",
   "metadata": {},
   "outputs": [],
   "source": []
  }
 ],
 "metadata": {
  "kernelspec": {
   "display_name": "Python 3",
   "language": "python",
   "name": "python3"
  },
  "language_info": {
   "codemirror_mode": {
    "name": "ipython",
    "version": 3
   },
   "file_extension": ".py",
   "mimetype": "text/x-python",
   "name": "python",
   "nbconvert_exporter": "python",
   "pygments_lexer": "ipython3",
   "version": "3.8.11"
  }
 },
 "nbformat": 4,
 "nbformat_minor": 5
}
