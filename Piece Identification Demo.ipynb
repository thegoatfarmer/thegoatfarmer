{
 "cells": [
  {
   "cell_type": "code",
   "execution_count": 2,
   "id": "f1052d26",
   "metadata": {},
   "outputs": [
    {
     "name": "stdout",
     "output_type": "stream",
     "text": [
      "Segmentation Models: using `keras` framework.\n"
     ]
    }
   ],
   "source": [
    "import pickle\n",
    "import cv2\n",
    "import matplotlib.pyplot as plt\n",
    "from CollageBuilder import build_collage, get_ocr, get_piece_number\n",
    "from ExtractionModel import *\n",
    "from tqdm.notebook import tqdm\n",
    "%matplotlib qt"
   ]
  },
  {
   "cell_type": "code",
   "execution_count": null,
   "id": "a53ac03c",
   "metadata": {},
   "outputs": [],
   "source": [
    "def undistort(img):\n",
    "\n",
    "    roi = (125, 102, 860, 515)\n",
    "\n",
    "    mtx = np.array([[607.43997952,   0.        , 645.96889836],\n",
    "                    [  0.        , 605.58954233, 391.50563407],\n",
    "                    [  0.        ,   0.        ,   1.        ]])\n",
    "\n",
    "    dist = np.array([[-0.35962477,  0.16171162, -0.00081826, -0.00444003, -0.03848117]])\n",
    "\n",
    "    newcameramtx = np.array([[408.22506714,   0.        , 558.75454709],\n",
    "                          [  0.        , 390.17321777, 354.4384903 ],\n",
    "                          [  0.        ,   0.        ,   1.        ]])\n",
    "\n",
    "    dst = cv2.undistort(img, mtx, dist, None, newcameramtx)\n",
    "    x, y, w, h = roi\n",
    "    d = dst.copy()\n",
    "    dst = dst[y:y+h, x:x+w]\n",
    "    return dst\n"
   ]
  },
  {
   "cell_type": "code",
   "execution_count": null,
   "id": "250e9bee",
   "metadata": {},
   "outputs": [],
   "source": [
    "with open('label', \"rb\") as fp:\n",
    "    frames = pickle.load(fp)    \n",
    "ims = [cv2.cvtColor(cv2.imdecode(im[1], cv2.IMREAD_UNCHANGED), cv2.COLOR_BGR2RGB) for im in frames]\n",
    "# shape = ims[0].shape[:2][::-1]\n",
    "# undistorted_ims = [cv2.resize(undistort(im), shape) for im in tqdm(ims)]"
   ]
  },
  {
   "cell_type": "code",
   "execution_count": null,
   "id": "50b901a9",
   "metadata": {},
   "outputs": [],
   "source": [
    "# for i in range(len(ims)):\n",
    "#     cv2.imshow('distorted', np.hstack((ims[i], undistorted_ims[i])))\n",
    "#     cv2.waitKey(50)"
   ]
  },
  {
   "cell_type": "code",
   "execution_count": 10,
   "id": "d5ffc4e2",
   "metadata": {},
   "outputs": [],
   "source": [
    "mov = cv2.VideoCapture('IMG_4280.MOV')\n",
    "if (mov.isOpened() == False):\n",
    "    print(\"Error opening the video file\")\n",
    "else:\n",
    "    fps = int(mov.get(5))\n",
    "    print(\"Frame Rate : \",fps,\"frames per second\") \n",
    "    frame_count = mov.get(7)\n",
    "    print(\"Frame count : \", frame_count)"
   ]
  },
  {
   "cell_type": "code",
   "execution_count": 4,
   "id": "d449959c",
   "metadata": {},
   "outputs": [
    {
     "data": {
      "application/vnd.jupyter.widget-view+json": {
       "model_id": "da53b46f76d54166a1579ae9d1bae1ed",
       "version_major": 2,
       "version_minor": 0
      },
      "text/plain": [
       "  0%|          | 0/5938 [00:00<?, ?it/s]"
      ]
     },
     "metadata": {},
     "output_type": "display_data"
    }
   ],
   "source": [
    "from IPython.display import clear_output\n",
    "frames = []\n",
    "for i in tqdm(range(int(frame_count))):\n",
    "    ret, frame = mov.read()\n",
    "    if ret == True:\n",
    "        frames.append(frame)\n",
    "    else:\n",
    "        continue\n",
    "    break"
   ]
  },
  {
   "cell_type": "code",
   "execution_count": 13,
   "id": "9afad7e2",
   "metadata": {},
   "outputs": [
    {
     "data": {
      "text/plain": [
       "array([[[ 63,  70,  80],\n",
       "        [ 68,  75,  84],\n",
       "        [ 74,  78,  90],\n",
       "        ...,\n",
       "        [106, 112, 124],\n",
       "        [105, 111, 123],\n",
       "        [105, 111, 123]],\n",
       "\n",
       "       [[ 65,  72,  81],\n",
       "        [ 69,  76,  86],\n",
       "        [ 74,  78,  90],\n",
       "        ...,\n",
       "        [108, 114, 126],\n",
       "        [108, 114, 126],\n",
       "        [109, 115, 127]],\n",
       "\n",
       "       [[ 68,  72,  82],\n",
       "        [ 73,  76,  87],\n",
       "        [ 76,  79,  91],\n",
       "        ...,\n",
       "        [112, 118, 130],\n",
       "        [114, 120, 132],\n",
       "        [116, 122, 134]],\n",
       "\n",
       "       ...,\n",
       "\n",
       "       [[ 46,  37,  38],\n",
       "        [ 45,  35,  37],\n",
       "        [ 51,  39,  42],\n",
       "        ...,\n",
       "        [ 95,  95, 100],\n",
       "        [ 94,  94,  99],\n",
       "        [ 86,  86,  91]],\n",
       "\n",
       "       [[ 41,  30,  31],\n",
       "        [ 40,  28,  30],\n",
       "        [ 45,  33,  36],\n",
       "        ...,\n",
       "        [ 91,  91,  96],\n",
       "        [ 89,  88,  94],\n",
       "        [ 85,  84,  91]],\n",
       "\n",
       "       [[ 34,  23,  24],\n",
       "        [ 34,  23,  24],\n",
       "        [ 40,  28,  31],\n",
       "        ...,\n",
       "        [ 85,  85,  90],\n",
       "        [ 80,  79,  85],\n",
       "        [ 78,  77,  84]]], dtype=uint8)"
      ]
     },
     "execution_count": 13,
     "metadata": {},
     "output_type": "execute_result"
    }
   ],
   "source": []
  },
  {
   "cell_type": "code",
   "execution_count": null,
   "id": "5a3d9383",
   "metadata": {},
   "outputs": [],
   "source": [
    "ext = ExtractionModel()\n",
    "ext.set_mode(ExtractMode.LABEL)"
   ]
  },
  {
   "cell_type": "code",
   "execution_count": null,
   "id": "8eb40757",
   "metadata": {},
   "outputs": [],
   "source": [
    "%%time\n",
    "masks, labels = zip(*[ext.extract(im) for im in tqdm(ims)])\n",
    "masks = list(cv2.cvtColor(m, cv2.COLOR_GRAY2BGR) for m in masks)\n",
    "# labels = list(labels)\n",
    "labels = list([cv2.rotate(label, cv2.ROTATE_90_CLOCKWISE) for label in labels])\n",
    "# collage = build_collage(labels)\n",
    "\n",
    "# ocr = get_ocr(collage)\n",
    "# top_val, bottom_val = get_piece_number(ocr)\n",
    "\n",
    "# print(f'Piece Identification: {top_val} {bottom_val}')"
   ]
  },
  {
   "cell_type": "code",
   "execution_count": null,
   "id": "49a1d3c0",
   "metadata": {},
   "outputs": [],
   "source": [
    "# labels = list([cv2.rotate(label, cv2.ROTATE_90_COUNTERCLOCKWISE) for label in labels])"
   ]
  },
  {
   "cell_type": "code",
   "execution_count": null,
   "id": "a958bf89",
   "metadata": {},
   "outputs": [],
   "source": [
    "collages = [build_collage(labels[:i]).astype(np.uint8) for i in range(len(labels))]"
   ]
  },
  {
   "cell_type": "code",
   "execution_count": null,
   "id": "3e54bac8",
   "metadata": {},
   "outputs": [],
   "source": [
    "results = [get_piece_number(col) for col in tqdm(collages)]"
   ]
  },
  {
   "cell_type": "code",
   "execution_count": null,
   "id": "626f440a",
   "metadata": {},
   "outputs": [],
   "source": [
    "h = 500\n",
    "w = int(h*1.7777777777)"
   ]
  },
  {
   "cell_type": "code",
   "execution_count": null,
   "id": "8fd81057",
   "metadata": {},
   "outputs": [],
   "source": [
    "top = sorted(results[-1][0].items(), key=lambda x: -x[1])[0]\n",
    "# top = ('', '')\n",
    "bottom = sorted(results[-1][1].items(), key=lambda x: -x[1])[0]\n",
    "# bottom = ('', '')"
   ]
  },
  {
   "cell_type": "code",
   "execution_count": null,
   "id": "9d5c5447",
   "metadata": {},
   "outputs": [],
   "source": [
    "def get_res_img(h, w, res):\n",
    "    im = np.zeros((h, w, 3)).astype(np.uint8)\n",
    "    i = 100\n",
    "    cv2.putText(im, f'Top Row', (50, 50), 2, .75, (255, 255, 255), 1)\n",
    "    cv2.putText(im, f'Bottom Row', (500, 50), 2, .75, (255, 255, 255), 1)\n",
    "    for value, count in sorted(res[0].items(), key=lambda x: -x[1]):\n",
    "        cv2.putText(im, f'{value}', (50, i), 2, .75, (255, 255, 255), 1)\n",
    "        cv2.putText(im, f'{count}', (125, i), 2, .75, (255, 255, 255), 1)\n",
    "        i += 20\n",
    "    i = 100\n",
    "    for value, count in sorted(res[1].items(), key=lambda x: -x[1]):\n",
    "        cv2.putText(im, f'{value}', (500, i), 2, .75, (255, 255, 255), 1)\n",
    "        cv2.putText(im, f'{count}', (575, i), 2, .75, (255, 255, 255), 1)\n",
    "        i += 20\n",
    "    return im"
   ]
  },
  {
   "cell_type": "code",
   "execution_count": null,
   "id": "118a2e74",
   "metadata": {},
   "outputs": [],
   "source": [
    "demo = []\n",
    "for i in range(len(labels)):\n",
    "    left = np.vstack((cv2.cvtColor(cv2.resize(ims[i], (w, h)), cv2.COLOR_BGR2RGB), cv2.resize(masks[i], (w, h))))\n",
    "    right = np.vstack((cv2.resize(cv2.cvtColor(build_collage(labels[:i+1]).astype(np.uint8), cv2.COLOR_BGR2RGB), (w, h)),\n",
    "                     get_res_img(h, w, results[i]))).astype(np.uint8)\n",
    "    final = np.hstack((left, right))\n",
    "    demo.append(final)\n",
    "final_results_img = get_res_img(h, w, results[-1])\n",
    "cv2.putText(final_results_img, f'Piece Identification: {top[0]} {bottom[0]}', (50, h-25), 2, 1.25, (0, 255, 0), 1)\n",
    "left = np.vstack((cv2.cvtColor(cv2.resize(ims[-1], (w, h)), cv2.COLOR_BGR2RGB), cv2.resize(masks[-1], (w, h))))\n",
    "right = np.vstack((cv2.resize(cv2.cvtColor(build_collage(labels).astype(np.uint8), cv2.COLOR_BGR2RGB), (w, h)),\n",
    "                 final_results_img)).astype(np.uint8)\n",
    "final = np.hstack((left, right))\n",
    "demo.append(final)"
   ]
  },
  {
   "cell_type": "code",
   "execution_count": null,
   "id": "617dd4bd",
   "metadata": {},
   "outputs": [],
   "source": [
    "for frame in demo:\n",
    "    cv2.imshow('demo', frame)\n",
    "    cv2.waitKey(50)"
   ]
  },
  {
   "cell_type": "code",
   "execution_count": null,
   "id": "edb7341b",
   "metadata": {},
   "outputs": [],
   "source": []
  }
 ],
 "metadata": {
  "kernelspec": {
   "display_name": "Python 3",
   "language": "python",
   "name": "python3"
  },
  "language_info": {
   "codemirror_mode": {
    "name": "ipython",
    "version": 3
   },
   "file_extension": ".py",
   "mimetype": "text/x-python",
   "name": "python",
   "nbconvert_exporter": "python",
   "pygments_lexer": "ipython3",
   "version": "3.8.11"
  }
 },
 "nbformat": 4,
 "nbformat_minor": 5
}
