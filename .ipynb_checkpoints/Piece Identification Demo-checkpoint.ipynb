{
 "cells": [
  {
   "cell_type": "code",
   "execution_count": 1,
   "id": "f1052d26",
   "metadata": {},
   "outputs": [
    {
     "name": "stdout",
     "output_type": "stream",
     "text": [
      "Segmentation Models: using `keras` framework.\n"
     ]
    }
   ],
   "source": [
    "import pickle\n",
    "import cv2\n",
    "import matplotlib.pyplot as plt\n",
    "from CollageBuilder import build_collage, get_ocr, get_piece_number\n",
    "from ExtractionModel import *\n",
    "from tqdm.notebook import tqdm\n",
    "%matplotlib qt"
   ]
  },
  {
   "cell_type": "code",
   "execution_count": 2,
   "id": "c8ab7e29",
   "metadata": {},
   "outputs": [],
   "source": [
    "with open('label', \"rb\") as fp:\n",
    "    frames = pickle.load(fp)    \n",
    "ims = [cv2.cvtColor(cv2.imdecode(im[1], cv2.IMREAD_UNCHANGED), cv2.COLOR_BGR2RGB) for im in frames]"
   ]
  },
  {
   "cell_type": "code",
   "execution_count": 3,
   "id": "5a3d9383",
   "metadata": {},
   "outputs": [],
   "source": [
    "ext = ExtractionModel()\n",
    "ext.set_mode(ExtractMode.LABEL)"
   ]
  },
  {
   "cell_type": "code",
   "execution_count": 4,
   "id": "8eb40757",
   "metadata": {},
   "outputs": [
    {
     "data": {
      "application/vnd.jupyter.widget-view+json": {
       "model_id": "14357bebf7e34617ac317eabd24060d5",
       "version_major": 2,
       "version_minor": 0
      },
      "text/plain": [
       "  0%|          | 0/200 [00:00<?, ?it/s]"
      ]
     },
     "metadata": {},
     "output_type": "display_data"
    },
    {
     "name": "stdout",
     "output_type": "stream",
     "text": [
      "Top Result: 013Q, Found in 315.00% of frames\n",
      "\n",
      "Bottom Result: DWV, Found in 225.00% of frames\n",
      "\n",
      "Piece Identification: 013Q DWV\n",
      "Wall time: 4min 18s\n"
     ]
    }
   ],
   "source": [
    "%%time\n",
    "labels = [ext.extract(im) for im in tqdm(ims)]\n",
    "collage = build_collage(labels)\n",
    "\n",
    "ocr = get_ocr(collage)\n",
    "top_val, bottom_val = get_piece_number(ocr)\n",
    "\n",
    "print(f'Piece Identification: {top_val} {bottom_val}')"
   ]
  },
  {
   "cell_type": "code",
   "execution_count": 5,
   "id": "2657510d",
   "metadata": {},
   "outputs": [
    {
     "data": {
      "application/vnd.jupyter.widget-view+json": {
       "model_id": "a251352cff064771a17dcbadb154b534",
       "version_major": 2,
       "version_minor": 0
      },
      "text/plain": [
       "  0%|          | 0/200 [00:00<?, ?it/s]"
      ]
     },
     "metadata": {},
     "output_type": "display_data"
    }
   ],
   "source": [
    "masks = [ext.get_mask(im) for im in tqdm(ims)]"
   ]
  },
  {
   "cell_type": "code",
   "execution_count": 6,
   "id": "06c350e1",
   "metadata": {},
   "outputs": [],
   "source": [
    "masks = [cv2.cvtColor(mask, cv2.COLOR_GRAY2RGB) for mask in masks]"
   ]
  },
  {
   "cell_type": "code",
   "execution_count": 40,
   "id": "80b768d3",
   "metadata": {},
   "outputs": [],
   "source": [
    "collages = [build_collage(labels[:i]).astype(np.uint8) for i in range(len(labels))]"
   ]
  },
  {
   "cell_type": "code",
   "execution_count": 43,
   "id": "4298822d",
   "metadata": {},
   "outputs": [
    {
     "name": "stdout",
     "output_type": "stream",
     "text": [
      "Top Result: 013Q, Found in 60.00% of frames\n",
      "\n",
      "Bottom Result: DWV, Found in 50.00% of frames\n",
      "\n"
     ]
    }
   ],
   "source": [
    "top, bottom = get_piece_number(collages[150])"
   ]
  },
  {
   "cell_type": "code",
   "execution_count": 56,
   "id": "03681ce8",
   "metadata": {},
   "outputs": [],
   "source": [
    "im = np.zeros((h, w, 3)).astype(np.uint8)\n",
    "image = Image.fromarray(im)"
   ]
  },
  {
   "cell_type": "code",
   "execution_count": 57,
   "id": "ce3f4396",
   "metadata": {},
   "outputs": [],
   "source": [
    "from PIL import Image, ImageDraw"
   ]
  },
  {
   "cell_type": "code",
   "execution_count": 58,
   "id": "a8c8c235",
   "metadata": {},
   "outputs": [],
   "source": [
    "draw = ImageDraw.Draw(image)"
   ]
  },
  {
   "cell_type": "code",
   "execution_count": null,
   "id": "7b001196",
   "metadata": {},
   "outputs": [],
   "source": [
    "draw.text((0, 0), )"
   ]
  },
  {
   "cell_type": "code",
   "execution_count": 59,
   "id": "4b12789f",
   "metadata": {},
   "outputs": [
    {
     "name": "stdout",
     "output_type": "stream",
     "text": [
      "Top Result: 013Q, Found in 60.00% of frames\n",
      "\n",
      "Bottom Result: DWV, Found in 50.00% of frames\n",
      "\n"
     ]
    }
   ],
   "source": [
    "res = get_piece_number(collages[150])"
   ]
  },
  {
   "cell_type": "code",
   "execution_count": 61,
   "id": "224c9990",
   "metadata": {},
   "outputs": [
    {
     "data": {
      "text/plain": [
       "{'013Q': 12}"
      ]
     },
     "execution_count": 61,
     "metadata": {},
     "output_type": "execute_result"
    }
   ],
   "source": [
    "res[0]"
   ]
  },
  {
   "cell_type": "code",
   "execution_count": 27,
   "id": "9af5fd00",
   "metadata": {},
   "outputs": [],
   "source": [
    "h = 500\n",
    "w = int(h*1.7777777777)"
   ]
  },
  {
   "cell_type": "code",
   "execution_count": 28,
   "id": "d0da59e4",
   "metadata": {},
   "outputs": [],
   "source": [
    "demo = []\n",
    "for i in range(len(labels)):\n",
    "    left = np.vstack((cv2.cvtColor(cv2.resize(ims[i], (w, h)), cv2.COLOR_BGR2RGB), cv2.resize(masks[i], (w, h))))\n",
    "    right = np.vstack((cv2.resize(, (w, h)),\n",
    "                       np.zeros((h, w, 3)))).astype(np.uint8)\n",
    "    final = np.hstack((left, right))\n",
    "    demo.append(final)"
   ]
  },
  {
   "cell_type": "code",
   "execution_count": 29,
   "id": "db7e0273",
   "metadata": {},
   "outputs": [],
   "source": [
    "for frame in demo:\n",
    "    cv2.imshow('demo', frame)\n",
    "    cv2.waitKey(50)"
   ]
  },
  {
   "cell_type": "code",
   "execution_count": 39,
   "id": "de5c12a6",
   "metadata": {},
   "outputs": [],
   "source": [
    "import pandas as pd\n",
    "import numpy as np\n",
    "import cv2\n",
    "from PIL import Image\n",
    "import base64\n",
    "import requests\n",
    "import json\n",
    "import re\n",
    "from collections import deque, Counter\n",
    "\n",
    "def build_collage(images):\n",
    "    images = [im for im in images if im is not None]\n",
    "    if len(images) == 0:\n",
    "        return np.zeros((512, 512, 3))\n",
    "    best_ix = np.argmax([np.shape(im)[0] * np.shape(im)[1] for im in images])\n",
    "    h, w, c = images[best_ix].shape\n",
    "    ims = [[cv2.resize(im, (w, h)), (w, h)] for im in images]\n",
    "    df = pd.DataFrame(ims, columns=['Image', 'Size'])\n",
    "#     df.sort_values(by = ['Size'], key= lambda col: col.map(lambda x: max(x)), ascending=False, inplace=True)\n",
    "#     best_shape = df.iloc[0]['Size']\n",
    "#     df['Image'] = df.apply(lambda row: cv2.resize(row['Image'], best_shape), axis=1)\n",
    "#     df['Size'] = (best_shape[0], best_shape[1], 3)\n",
    "    \n",
    "    p = Packer()\n",
    "    blocks = [Block(i) for i in df['Size']]\n",
    "    p.fit(blocks)\n",
    "    df['Locations'] = [i.fit.location for i in blocks]\n",
    "    \n",
    "    c_w = max(df.apply(lambda x: x.Locations[0] + x.Size[0], axis=1).values)\n",
    "    c_h = max(df.apply(lambda x: x.Locations[1] + x.Size[1], axis=1).values)\n",
    "    \n",
    "    collage = np.zeros((c_h, c_w, 3))\n",
    "    \n",
    "    for ind, row in df.iterrows():\n",
    "        im_arr = np.array(row['Image'])\n",
    "        h, w, _ = im_arr.shape\n",
    "        loc_x, loc_y = row['Locations']\n",
    "        collage[loc_y:loc_y+h, loc_x:loc_x+w, :] = im_arr\n",
    "    \n",
    "    return collage.astype(np.uint8)\n",
    "\n",
    "def get_ocr(image):\n",
    "    url = 'http://testapps.dtc.corp/COG/ADI/Api/Annotation/ToJpegs'\n",
    "    imagingDocuments = []\n",
    "    imagingDocuments.append({'Base64Bytes' : convert_cv2img_to_b64bytes(image),\n",
    "                         'FileName' : 'test.jpg'})\n",
    "    request = {'ImagingDocuments' : imagingDocuments}\n",
    "    request_string = json.dumps(request)\n",
    "\n",
    "    x = requests.post(url, data = request_string, headers={'Content-Type': \"application/json\"})\n",
    "    result = json.loads(x.content)[0]\n",
    "\n",
    "    return result['OcrWords']\n",
    "\n",
    "def get_piece_number(img):\n",
    "    ocr = get_ocr(img)\n",
    "    first_row = []\n",
    "    second_row = []\n",
    "    if ocr is None:\n",
    "        ocr = []\n",
    "    for b in ocr:\n",
    "        if re.match('^\\d{3}[A-z]$', b['Value']):\n",
    "            first_row.append(b)\n",
    "        if re.match('^[A-Z]{3}$', b['Value']) and b['Value'].upper() != 'ABF':\n",
    "            second_row.append(b)\n",
    "        \n",
    "    top_row_counts = dict(Counter([i['Value'] for i in first_row]))\n",
    "    top_val = max(top_row_counts, key=top_row_counts.get)\n",
    "    print(f'Top Result: {top_val}, Found in {top_row_counts[top_val]/20*100:.2f}% of frames\\n')\n",
    "    bottom_row_counts = dict(Counter([i['Value'] for i in second_row]))\n",
    "    bottom_val = max(bottom_row_counts, key=bottom_row_counts.get)\n",
    "    print(f'Bottom Result: {bottom_val}, Found in {bottom_row_counts[bottom_val]/20*100:.2f}% of frames\\n')\n",
    "    \n",
    "    return top_row_counts, bottom_row_counts\n",
    "\n",
    "def convert_cv2img_to_b64bytes(img):\n",
    "    ext = \".jpg\"\n",
    "    retval, buffer_img= cv2.imencode(ext, img)\n",
    "    return base64.b64encode(buffer_img).decode(\"utf-8\")\n",
    "\n",
    "class Packer:\n",
    "    \"\"\"\n",
    "    Defines a packer object to be used on a list of blocks.\n",
    "    \"\"\"\n",
    "    def __init__(self):\n",
    "        self.root = None\n",
    "\n",
    "    def fit(self, blocks):\n",
    "        \"\"\"\n",
    "        Initiates the packing.\n",
    "            blocks: A list of block objects with a 'size' proprety representing (w,h) as a tuple.\n",
    "        \"\"\"\n",
    "        self.root = Node((0, 0), blocks[0].size)\n",
    "\n",
    "        for block in blocks:\n",
    "            some_node = self.find_node(self.root, block.size)\n",
    "            if some_node is not None:\n",
    "                block.fit = self.split_node(some_node, block.size)\n",
    "            else:\n",
    "                block.fit = self.grow_node(block.size)\n",
    "\n",
    "        return None\n",
    "\n",
    "    def find_node(self, some_node, size):\n",
    "        if some_node.used:\n",
    "            return self.find_node(some_node.right, size) or self.find_node(some_node.down, size)\n",
    "        elif (size[0] <= some_node.size[0]) and (size[1] <= some_node.size[1]):\n",
    "            return some_node\n",
    "        else:\n",
    "            return None\n",
    "\n",
    "    def split_node(self, some_node, size):\n",
    "        some_node.used = True\n",
    "        some_node.down = Node((some_node.location[0], some_node.location[1] + size[1]),\n",
    "                              (some_node.size[0], some_node.size[1] - size[1]))\n",
    "        some_node.right = Node((some_node.location[0] + size[0], some_node.location[1]),\n",
    "                               (some_node.size[0] - size[0], size[1]))\n",
    "        return some_node\n",
    "\n",
    "    def grow_node(self, size):\n",
    "        can_go_down = size[0] <= self.root.size[0]\n",
    "        can_go_right = size[1] <= self.root.size[1]\n",
    "\n",
    "        should_go_down = can_go_down and (self.root.size[0] >= (self.root.size[1] + size[1]))\n",
    "        should_go_right = can_go_right and (self.root.size[1] >= (self.root.size[0] + size[0]))\n",
    "\n",
    "        if should_go_right:\n",
    "            return self.grow_right(size)\n",
    "        elif should_go_down:\n",
    "            return self.grow_down(size)\n",
    "        elif can_go_right:\n",
    "            return self.grow_right(size)\n",
    "        elif can_go_down:\n",
    "            return self.grow_down(size)\n",
    "        else:\n",
    "            return None\n",
    "\n",
    "    def grow_right(self, size):\n",
    "        new_root = Node((0, 0), (self.root.size[0] + size[0], self.root.size[1]))\n",
    "        new_root.used = True\n",
    "        new_root.down = self.root\n",
    "        new_root.right = Node((self.root.size[0], 0), (size[0], self.root.size[1]))\n",
    "\n",
    "        self.root = new_root\n",
    "\n",
    "        some_node = self.find_node(self.root, size)\n",
    "        if some_node is not None:\n",
    "            return self.split_node(some_node, size)\n",
    "        else:\n",
    "            return None\n",
    "\n",
    "    def grow_down(self, size):\n",
    "        new_root = Node((0, 0), (self.root.size[0], self.root.size[1] + size[1]))\n",
    "        new_root.used = True\n",
    "        new_root.down = Node((0, self.root.size[1]), (self.root.size[0], size[1]))\n",
    "        new_root.right = self.root\n",
    "\n",
    "        self.root = new_root\n",
    "\n",
    "        some_node = self.find_node(self.root, size)\n",
    "        if some_node is not None:\n",
    "            return self.split_node(some_node, size)\n",
    "        else:\n",
    "            return None\n",
    "\n",
    "class Block:\n",
    "    \"\"\"\n",
    "    Defines an object Block with two properties.\n",
    "        size: tuple representing the blocks size (w,h)\n",
    "         fit: Stores a Node object for output.\n",
    "    \"\"\"\n",
    "    def __init__(self, size):\n",
    "        self.size = size\n",
    "        self.fit = None\n",
    "\n",
    "class Node:\n",
    "    \"\"\"\n",
    "    Defines an object Node for use in the packer function.  Represents the space that a block is placed.\n",
    "        used: Boolean to determine if a node has been used.\n",
    "        down: A node located beneath the current node.\n",
    "        right: A node located to the right of the current node.\n",
    "        size: A tuple (w,h) representing the size of the node.\n",
    "        location: A tuple representing the (x,y) coordinate of the top left of the node.\n",
    "    \"\"\"\n",
    "    def __init__(self, location, size):\n",
    "        self.used = False\n",
    "        self.down = None\n",
    "        self.right = None\n",
    "        self.size = size\n",
    "        self.location = location"
   ]
  },
  {
   "cell_type": "code",
   "execution_count": 35,
   "id": "808bf291",
   "metadata": {},
   "outputs": [
    {
     "data": {
      "text/plain": [
       "<matplotlib.image.AxesImage at 0x2b498e4a250>"
      ]
     },
     "execution_count": 35,
     "metadata": {},
     "output_type": "execute_result"
    }
   ],
   "source": [
    "plt.imshow(collages[150])"
   ]
  },
  {
   "cell_type": "code",
   "execution_count": null,
   "id": "a8cc70c0",
   "metadata": {},
   "outputs": [],
   "source": []
  }
 ],
 "metadata": {
  "kernelspec": {
   "display_name": "Python 3",
   "language": "python",
   "name": "python3"
  },
  "language_info": {
   "codemirror_mode": {
    "name": "ipython",
    "version": 3
   },
   "file_extension": ".py",
   "mimetype": "text/x-python",
   "name": "python",
   "nbconvert_exporter": "python",
   "pygments_lexer": "ipython3",
   "version": "3.8.11"
  }
 },
 "nbformat": 4,
 "nbformat_minor": 5
}
